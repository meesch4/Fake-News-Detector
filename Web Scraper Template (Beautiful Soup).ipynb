{
 "cells": [
  {
   "cell_type": "code",
   "execution_count": 25,
   "metadata": {},
   "outputs": [],
   "source": [
    "import requests\n",
    "response = requests.get('https://govbanknotes.wordpress.com/2017/06/28/hollywood-insider-bill-cosby-was-framed-by-elite-to-stop-him-buying-nbc/?fbclid=IwAR2nyqbI4vE1uhVHb7if2xYNHx3wngsiA1G5vWOXLs3vz0a7qSt_NFyNiTc')"
   ]
  },
  {
   "cell_type": "code",
   "execution_count": 26,
   "metadata": {},
   "outputs": [],
   "source": [
    "print(response.text)"
   ]
  },
  {
   "cell_type": "code",
   "execution_count": 27,
   "metadata": {},
   "outputs": [],
   "source": [
    "from bs4 import BeautifulSoup\n",
    "soup = BeautifulSoup(response.content, 'html.parser')\n",
    "print(soup.prettify())"
   ]
  },
  {
   "cell_type": "code",
   "execution_count": 28,
   "metadata": {},
   "outputs": [
    {
     "name": "stdout",
     "output_type": "stream",
     "text": [
      "Governmental Services Corporation Watch\n",
      "Governments are actually Corporations- The President/Prime Minister its CEO\n",
      "Enter your email address to follow this blog and receive notifications of new posts by email.\n",
      "Join 231 other followers\n",
      "\n",
      "\n",
      "\n",
      "\n",
      "\n",
      "\n",
      "\n",
      " \n",
      "\t                    Follow                    \n",
      "\n",
      "Start earning Mining Fees and Seigniorage in under 5 minutes.  MinerGate automatically mines the most profitable Coins. \n",
      "MinerGate works with Windows (64 bit & 32 bit), Apple Mac, Ubuntu, and Fedora. \n",
      "Earn New Digital Currency while you sleep.\n",
      "Bill Cosby does indeed seem to have been in negotiations with General Electric to buy NBC in 1993. And the accusations seems to have recently cost him NBC and Netflix deals.\n",
      "\n",
      "June 14, 2017\n",
      "Hollywood insider has come forward alleging that Bill Cosby was framed with rape allegations in order to prevent him from buying TV network NBC.\n",
      "Cosby, known as “America’s Dad”, is standing trial for aggravated sexual assault in Pittsburgh, and has responded to allegations that he drugged and sexually abused women with fierce denials.\n",
      "The Hollywood insider says that Bill Cosby became such a threat to the establishment elite that they had to invent the vilest of accusations against him in order to destroy his career.\n",
      "The accusers are women who have worked with the Illuminati in the past and were paid to state they are victims of rape. Only one of Cosby’s accusers leveled accusations against him within the statute of limitations (twelve years), and the others, according to the Hollywood insider, are opportunists who have been paid off to smear Cosby’s reputation and destroy his career.\n",
      "\n",
      "Although the legal system will not allow the other women to take criminal action against Cosby, they do have the option of seeking further financial reward by suing him in civil court.\n",
      "The spewers of this hate are all fabricators. Moreover, without exception they are suppose “victims” of Bill Cosby. Moreover, what extreme hate they are spewing, all under the guise of righteous indignation, all under the protection of the Illuminati who already control a large portion of the global media from the music industry to television.\n",
      "It should be noted that Whoopi Goldberg has defended Mr. Cosby, asking for hard evidence of the claims. Few if any others have done so, upholding the false witnesses or at least showing sympathy, tolerating their claims.\n",
      "All these so called “victims are paid large amounts of money to make this wild and outrageous claims about Bill Cosby” say the Hollywood insider. But why? And why make these allegations now? The star says Bill Cosby, NBC’s biggest star of the 80’s, was trying to buy the television network from its current owner, the General Electric Company.\n",
      "Norman Brokaw, the chief executive of the William Morris Agency and Mr. Cosby’s personal agent for 30 years, confirmed that he had discussed Cosby’s intention to make an offer for NBC with Robert C. Wright, the network’s president. Illuminati leaders who control NBC would lose control of the television company if Bill Cosby purchased it and the only way to stop the purchase was to ruin Bill Cosby.\n",
      "They concocted the fake rape allegations.\n",
      "With no hard evidence the Illuminati had succeeded in destroying Bill Cosby’s image. One of the original accusers, a Wilhelmina Model, has since admitted that she was paid to destroy Bill’s reputation.\n",
      "Totally discussing, and mindless individuals, that are willing to do anything to destroy a person life.\n",
      "LikeLike\n",
      "That’s a dam shame what make it so  bad they trying to do rkelly the same wsy\n",
      "LikeLike\n",
      "Fill in your details below or click an icon to log in:\n",
      "\n",
      "\n",
      "\t\t\tYou are commenting using your WordPress.com account.\t\t\t\n",
      "\t\t\t\t( Log Out / \n",
      "\t\t\t\tChange )\n",
      "\t\t\t\n",
      "\n",
      "\n",
      "\n",
      "\n",
      "\t\t\tYou are commenting using your Google account.\t\t\t\n",
      "\t\t\t\t( Log Out / \n",
      "\t\t\t\tChange )\n",
      "\t\t\t\n",
      "\n",
      "\n",
      "\n",
      "\n",
      "\t\t\tYou are commenting using your Twitter account.\t\t\t\n",
      "\t\t\t\t( Log Out / \n",
      "\t\t\t\tChange )\n",
      "\t\t\t\n",
      "\n",
      "\n",
      "\n",
      "\n",
      "\t\t\tYou are commenting using your Facebook account.\t\t\t\n",
      "\t\t\t\t( Log Out / \n",
      "\t\t\t\tChange )\n",
      "\t\t\t\n",
      "\n",
      "\n",
      "Connecting to %s\n",
      " Notify me of new comments via email.\n",
      " Notify me of new posts via email.\n",
      " \n",
      "\n",
      "\n",
      "\n",
      "\n"
     ]
    }
   ],
   "source": [
    "for child in soup.find_all('p'):\n",
    "    print(child.get_text())"
   ]
  },
  {
   "cell_type": "code",
   "execution_count": 29,
   "metadata": {},
   "outputs": [
    {
     "name": "stdout",
     "output_type": "stream",
     "text": [
      "June 14, 2017\n",
      "Hollywood insider has come forward alleging that Bill Cosby was framed with rape allegations in order to prevent him from buying TV network NBC.Cosby, known as “America’s Dad”, is standing trial for aggravated sexual assault in Pittsburgh, and has responded to allegations that he drugged and sexually abused women with fierce denials.The Hollywood insider says that Bill Cosby became such a threat to the establishment elite that they had to invent the vilest of accusations against him in order to destroy his career.The accusers are women who have worked with the Illuminati in the past and were paid to state they are victims of rape. Only one of Cosby’s accusers leveled accusations against him within the statute of limitations (twelve years), and the others, according to the Hollywood insider, are opportunists who have been paid off to smear Cosby’s reputation and destroy his career.Although the legal system will not allow the other women to take criminal action against Cosby, they do have the option of seeking further financial reward by suing him in civil court.The spewers of this hate are all fabricators. Moreover, without exception they are suppose “victims” of Bill Cosby. Moreover, what extreme hate they are spewing, all under the guise of righteous indignation, all under the protection of the Illuminati who already control a large portion of the global media from the music industry to television.It should be noted that Whoopi Goldberg has defended Mr. Cosby, asking for hard evidence of the claims. Few if any others have done so, upholding the false witnesses or at least showing sympathy, tolerating their claims.All these so called “victims are paid large amounts of money to make this wild and outrageous claims about Bill Cosby” say the Hollywood insider. But why? And why make these allegations now? The star says Bill Cosby, NBC’s biggest star of the 80’s, was trying to buy the television network from its current owner, the General Electric Company.Norman Brokaw, the chief executive of the William Morris Agency and Mr. Cosby’s personal agent for 30 years, confirmed that he had discussed Cosby’s intention to make an offer for NBC with Robert C. Wright, the network’s president. Illuminati leaders who control NBC would lose control of the television company if Bill Cosby purchased it and the only way to stop the purchase was to ruin Bill Cosby.They concocted the fake rape allegations.With no hard evidence the Illuminati had succeeded in destroying Bill Cosby’s image. One of the original accusers, a Wilhelmina Model, has since admitted that she was paid to destroy Bill’s reputation.Totally discussing, and mindless individuals, that are willing to do anything to destroy a person life.LikeLikeThat’s a dam shame what make it so  bad they trying to do rkelly the same wsyLikeLikeFill in your details below or click an icon to log in:\n",
      "\n",
      "\t\t\tYou are commenting using your WordPress.com account.\t\t\t\n",
      "\t\t\t\t( Log Out / \n",
      "\t\t\t\tChange )\n",
      "\t\t\t\n",
      "\n",
      "\n",
      "\n",
      "\t\t\tYou are commenting using your Google account.\t\t\t\n",
      "\t\t\t\t( Log Out / \n",
      "\t\t\t\tChange )\n",
      "\t\t\t\n",
      "\n",
      "\n",
      "\n",
      "\t\t\tYou are commenting using your Twitter account.\t\t\t\n",
      "\t\t\t\t( Log Out / \n",
      "\t\t\t\tChange )\n",
      "\t\t\t\n",
      "\n",
      "\n",
      "\n",
      "\t\t\tYou are commenting using your Facebook account.\t\t\t\n",
      "\t\t\t\t( Log Out / \n",
      "\t\t\t\tChange )\n",
      "\t\t\t\n",
      "\n",
      "Connecting to %s Notify me of new comments via email. Notify me of new posts via email. \n",
      "\n",
      "\n"
     ]
    }
   ],
   "source": [
    "i = 0\n",
    "while 'June' not in soup.find_all('p')[i].get_text():\n",
    "    i += 1\n",
    "\n",
    "    \n",
    "body = str()\n",
    "while i < len(soup.find_all('p')):\n",
    "    body += soup.find_all('p')[i].get_text()\n",
    "    i += 1\n",
    "    \n",
    "print(body)"
   ]
  },
  {
   "cell_type": "code",
   "execution_count": null,
   "metadata": {},
   "outputs": [],
   "source": [
    "with open(\"fake_article_1.txt\",\"w\") as f:\n",
    "    f.write(body)"
   ]
  }
 ],
 "metadata": {
  "kernelspec": {
   "display_name": "Python 3",
   "language": "python",
   "name": "python3"
  },
  "language_info": {
   "codemirror_mode": {
    "name": "ipython",
    "version": 3
   },
   "file_extension": ".py",
   "mimetype": "text/x-python",
   "name": "python",
   "nbconvert_exporter": "python",
   "pygments_lexer": "ipython3",
   "version": "3.6.5"
  }
 },
 "nbformat": 4,
 "nbformat_minor": 2
}
